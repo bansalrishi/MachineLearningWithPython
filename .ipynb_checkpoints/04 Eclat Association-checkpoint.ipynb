{
 "cells": [
  {
   "cell_type": "markdown",
   "metadata": {},
   "source": [
    "# Eclat\n",
    "\n",
    "$$Support(S) = \\frac{No. of user watchlists contains S}{No. of user watchlists} $$"
   ]
  },
  {
   "cell_type": "markdown",
   "metadata": {},
   "source": [
    "### Algorithm\n",
    "\n",
    "$ Step 1:$ Set Min. Support  \n",
    "$ Step 2:$ Take all the subsets in the transactions having higher Support than the min. support       \n",
    "$ Step 3:$ Sort the rules by decreasing Support  "
   ]
  },
  {
   "cell_type": "markdown",
   "metadata": {},
   "source": [
    "Advantages over Apriori algorithm:-\n",
    "\n",
    "- Memory Requirements: Since the ECLAT algorithm uses a Depth-First Search approach, it uses less memory than Apriori algorithm.\n",
    "- Speed: The ECLAT algorithm is typically faster than the Apriori algorithm.\n",
    "- Number of Computations: The ECLAT algorithm does not involve the repeated scanning of the data to compute the individual support values.\n"
   ]
  },
  {
   "cell_type": "code",
   "execution_count": null,
   "metadata": {},
   "outputs": [],
   "source": []
  }
 ],
 "metadata": {
  "kernelspec": {
   "display_name": "Python 3",
   "language": "python",
   "name": "python3"
  },
  "language_info": {
   "codemirror_mode": {
    "name": "ipython",
    "version": 3
   },
   "file_extension": ".py",
   "mimetype": "text/x-python",
   "name": "python",
   "nbconvert_exporter": "python",
   "pygments_lexer": "ipython3",
   "version": "3.6.6"
  }
 },
 "nbformat": 4,
 "nbformat_minor": 2
}
