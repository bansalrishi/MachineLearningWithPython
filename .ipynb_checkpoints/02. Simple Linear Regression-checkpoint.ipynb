{
 "cells": [
  {
   "cell_type": "markdown",
   "metadata": {},
   "source": [
    "# Basics\n",
    "If we have only one variable then Mean is the best way to predict\n",
    "<img src=\"Image/LR-1.JPG\">\n",
    "\n",
    "$\\hat{y}$ = $b_o + b_1$x  \n",
    "here $b_1$ = 0  \n",
    "$\\hat{y}$ = $b_o$ = 10  ( because mean is the best fit, i.e, $b_o$ = 10 )"
   ]
  },
  {
   "cell_type": "markdown",
   "metadata": {},
   "source": [
    "Distance between best fit line and the observed value is called Residuals or Error.\n",
    "Squaring the residuals\n",
    "<img src=\"Image/LR-2.JPG\">\n",
    "\n",
    "Sum of Squared Errors(SSE) = 25 + 49 + 1 + 4 + 16 + 25 = 120"
   ]
  },
  {
   "cell_type": "markdown",
   "metadata": {},
   "source": [
    "# Bivariate(Two Variable) Statistics"
   ]
  },
  {
   "cell_type": "markdown",
   "metadata": {},
   "source": [
    "The Best fit line will always pass from Centroid\n",
    "\n",
    "\n"
   ]
  },
  {
   "attachments": {},
   "cell_type": "markdown",
   "metadata": {},
   "source": [
    "$\\hat{y}$ = $b_o + b_1$x\n",
    "\n",
    "$\\hat{y}$ = Mean(Expected) value of y for a given value of x\n",
    "\n",
    "Least Square Criterian: We need to minimize this term $\\sum(y_i - \\hat{y_i})^2$  \n",
    "$b_o = \\bar{y} - b_1\\bar{x}$  \n",
    "$b_1 = \\frac{\\sum(x_i - \\bar{x})(y_i - \\bar{y})}{(x_i - \\bar{x})^2}$"
   ]
  },
  {
   "attachments": {},
   "cell_type": "markdown",
   "metadata": {},
   "source": [
    "<img src=\"Image/LR-3.JPG\">\n",
    "\n",
    "When we conducted regression SSE deceased from 120 to 30.075.  \n",
    "So, where does this 89.925 go?\n",
    "89.925 is Sum of Squares due to Regression(SSR)  \n",
    "SST = SSR + SSE  \n",
    "120 = 89.925 + 30.075  \n",
    "Correlation Coefficient: Its the strength of the relationship between the relative movements of two variables. The values range between -1.0 and 1.0. A calculated number greater than 1.0 or less than -1.0 means that there was an error in the correlation measurement."
   ]
  },
  {
   "cell_type": "markdown",
   "metadata": {},
   "source": [
    "### Coefficient of Determination($r^2$)\n",
    "$r^2 = \\frac{SSR}{SST} = \\frac{89.925}{120}$ = 0.7493 or 74.93%  \n",
    "So, 74.93% of the Total Sum of Squares can be explained by using the estimated regression equation to predict the tip amount. The remainder is error."
   ]
  },
  {
   "cell_type": "code",
   "execution_count": null,
   "metadata": {},
   "outputs": [],
   "source": []
  },
  {
   "cell_type": "code",
   "execution_count": null,
   "metadata": {},
   "outputs": [],
   "source": []
  }
 ],
 "metadata": {
  "kernelspec": {
   "display_name": "Python 3",
   "language": "python",
   "name": "python3"
  },
  "language_info": {
   "codemirror_mode": {
    "name": "ipython",
    "version": 3
   },
   "file_extension": ".py",
   "mimetype": "text/x-python",
   "name": "python",
   "nbconvert_exporter": "python",
   "pygments_lexer": "ipython3",
   "version": "3.6.6"
  }
 },
 "nbformat": 4,
 "nbformat_minor": 2
}
