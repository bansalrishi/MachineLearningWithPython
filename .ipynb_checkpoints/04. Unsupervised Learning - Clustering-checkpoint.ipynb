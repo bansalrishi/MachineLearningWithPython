{
 "cells": [
  {
   "cell_type": "markdown",
   "metadata": {},
   "source": [
    "# UnSupervised Learning Algorithm\n",
    "<hr>\n",
    "\n",
    "### Agenda\n",
    "1. Introduction to Unsupervised Learning\n",
    "2. Clustering\n",
    "4. Clustering as an Optimization Function\n",
    "5. Types of Clustering Methods\n",
    "6. Partitioning Clustering - KMeans & Meanshift\n",
    "7. Hierarchial Clustering - Agglomerative\n",
    "8. Density Based Clustering - DBSCAN\n",
    "9. Measuring Performance of Clusters\n",
    "10. Comparing all clustering methods\n",
    "\n",
    "<hr>"
   ]
  },
  {
   "cell_type": "markdown",
   "metadata": {},
   "source": [
    "### 1. Introduction to Unsupervised Learning\n",
    "* We have only input data and no corresponding output variable.  \n",
    "* Model tries to find relationship between data.  \n",
    "* there is no correct answers and there is no teacher thats why it is called Unsupervised.  \n",
    "* Most common unsupervised learning method is clustering which is used for exploratory data analysis to find hidden patterns or grouping in data\n",
    "\n",
    "### Types\n",
    "- Clustering  \n",
    "Used for exploratory data analysis to find hidden patterns or grouping in data  \n",
    "- Association Rule Learning Algorithm  \n",
    "Where you want to discover rules that describe large portions of your data, such as people that buy X also tend to buy Y  "
   ]
  },
  {
   "cell_type": "markdown",
   "metadata": {},
   "source": [
    "### 2. Clustering\n",
    "* A learning technique to group a set of objects in such a way that objects of same group are more similar to each other than from objects of other group.\n",
    "* Applications of clustering are as follows\n",
    "  - Automatically organizing the data\n",
    "  - Labeling data\n",
    "  - Understanding hidden structure of data\n",
    "  - News Cloustering for grouping similar news together\n",
    "  - Customer Segmentation\n",
    "  - Suggest social groups"
   ]
  },
  {
   "cell_type": "markdown",
   "metadata": {},
   "source": [
    "### 3. Clustering as an Optimization Problem\n",
    "* Maximize inter-cluster distances\n",
    "* Minimize intra-cluster distances"
   ]
  },
  {
   "cell_type": "markdown",
   "metadata": {},
   "source": [
    "### 4. Types of Clustering\n",
    "* Partitioning methods\n",
    "  - Partitions n data into k partitions\n",
    "  - Initially, random partitions are created & gradually data is moved across different partitions.\n",
    "  - It uses distance between points to optimize clusters.\n",
    "  - KMeans & Meanshift are examples of Partitioning methods\n",
    "* Hierarchical methods\n",
    "  - These methods does hierarchical decomposition of datasets.\n",
    "  - One approach is, assume each data as cluster & merge to create a bigger cluster\n",
    "  - Another approach is start with one cluster & continue splitting\n",
    "* Density-based methods\n",
    "  - All above techniques are distance based & such methods can find only spherical clusters and not suited for clusters of other shapes.\n",
    "  - Continue growing the cluster untill the density exceeds certain threashold."
   ]
  }
 ],
 "metadata": {
  "kernelspec": {
   "display_name": "Python 3",
   "language": "python",
   "name": "python3"
  },
  "language_info": {
   "codemirror_mode": {
    "name": "ipython",
    "version": 3
   },
   "file_extension": ".py",
   "mimetype": "text/x-python",
   "name": "python",
   "nbconvert_exporter": "python",
   "pygments_lexer": "ipython3",
   "version": "3.6.6"
  }
 },
 "nbformat": 4,
 "nbformat_minor": 2
}
