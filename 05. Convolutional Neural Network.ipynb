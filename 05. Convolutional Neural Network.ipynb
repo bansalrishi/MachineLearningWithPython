{
 "cells": [
  {
   "cell_type": "markdown",
   "metadata": {},
   "source": [
    "# Convolutional Neural Network (CNN)\n",
    "<img src=\"Image\\cnn.png\" width=300>\n",
    "|\n",
    "$CONVOLUTION \\longrightarrow MAX POOLING \\longrightarrow FLATTENING \\longrightarrow FULL CONNECTION$"
   ]
  },
  {
   "cell_type": "markdown",
   "metadata": {},
   "source": [
    "### Step 1:CONVOLUTION\n",
    "- Identify features and put it in feature map while preverving special relation between pixels\n",
    "<img src=\"Image\\convolution.png\" width=500>\n"
   ]
  },
  {
   "cell_type": "markdown",
   "metadata": {},
   "source": [
    "### Step 1(a):\n",
    "We create many Feature Maps by taking different Feature Detector to obtain our first convolution layer.\n"
   ]
  },
  {
   "cell_type": "markdown",
   "metadata": {},
   "source": [
    "### Step 2: MAX POOLING\n",
    "- If same image be rotated or strectched or shrinked, Neural Network should be able to recognize it.\n",
    "- preserving the feature\n",
    "- reducing size\n",
    "- reducing parameter so preventing over-fitting\n",
    "\n",
    "<img src=\"Image\\max.png\" width=300>\n",
    "\n"
   ]
  },
  {
   "cell_type": "markdown",
   "metadata": {},
   "source": [
    "### Step 3: FLATTENING\n",
    "<img src=\"Image\\flattening.png\" width=300>"
   ]
  },
  {
   "cell_type": "markdown",
   "metadata": {},
   "source": [
    "### Step 4: Fully Connected Layer\n",
    "- in Artificial NN its hidden layer\n",
    "- in ANN we have one output - regression problem\n"
   ]
  }
 ],
 "metadata": {
  "kernelspec": {
   "display_name": "Python 3",
   "language": "python",
   "name": "python3"
  },
  "language_info": {
   "codemirror_mode": {
    "name": "ipython",
    "version": 3
   },
   "file_extension": ".py",
   "mimetype": "text/x-python",
   "name": "python",
   "nbconvert_exporter": "python",
   "pygments_lexer": "ipython3",
   "version": "3.6.6"
  }
 },
 "nbformat": 4,
 "nbformat_minor": 2
}
