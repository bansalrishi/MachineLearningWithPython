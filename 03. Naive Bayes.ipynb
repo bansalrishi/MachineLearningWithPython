{
 "cells": [
  {
   "attachments": {},
   "cell_type": "markdown",
   "metadata": {},
   "source": [
    "# Naive Bayes\n",
    "\n",
    "Its Naive(innocent) because it assumes that all the features are independent of each other. Which is almost never possible.  \n",
    "\n",
    "Easy to understand.  \n",
    "All features are independent.  \n",
    "All impact results equally.  \n",
    "Need small amount of data to train the model.  \n",
    "Fast – up to 100X faster.  \n",
    "It is highly scalable.  \n",
    "It can make probabilistic predictions.  \n",
    "It's simple & out-performs many sophisticated methods.  \n",
    "Stable to data changes.  \n",
    "\n",
    "\n",
    "## Bayes’s Theorem\n",
    "It describes the probability of an event, based on prior knowledge of conditions that might be related to the event.  \n",
    "\n",
    "$ P(A|B) = \\frac {P(B|A)*P(A)}{P(B)}$  "
   ]
  },
  {
   "cell_type": "markdown",
   "metadata": {},
   "source": [
    "Suppose:  \n",
    "Fact_1 = 200 cars/day   \n",
    "Fact_2 = 300 cars/day  \n",
    "Out of all Cars produced: 2% are faulty/having issue\n",
    "Out of these faulty cars 50% came from each Factory.\n",
    "\n",
    "Question:\n",
    "What is the probability that a car manufactured by Fact_1 is faulty? P(Faulty | Fact_1)? \n",
    "\n",
    "Solution:  \n",
    "Car Manufctured by Factory 1: P(Fact_1) = $\\frac {200}{200 + 300} = 0.4$  \n",
    "Car Manufctured by Factory 2: P(Fact_2) = $\\frac {300}{200 + 300} = 0.6$  \n",
    "\n",
    "2% of cars are Faulty = P(Faulty) = 0.02\n",
    "\n",
    "Probability of a Faulty Car coming out of Factory 1: P(Fact_1 | Faulty) = 0.5  \n",
    "Probability of a Faulty Car coming out of Factory 2: P(Fact_2 | Faulty) = 0.5  \n",
    "\n",
    "\n",
    "P(Faulty | Fact_1) = $\\frac {P(Fact_1|Faulty)*P(Faulty)}{P(Fact_1)}  = \\frac{0.5*0.02}{0.4}$ = 2.5%\n",
    "\n",
    "Example:  \n",
    "Total 500 Cars  \n",
    "Fact_1 = 200  \n",
    "Fact_2 = 300  \n",
    "Faulty = 10  \n",
    "50% came froom Fact_1 = 5  \n",
    "% of Faulty Cars came from Fact_1 = $\\frac{5}{200}$ = 2.5%  "
   ]
  },
  {
   "cell_type": "code",
   "execution_count": 12,
   "metadata": {},
   "outputs": [],
   "source": [
    "#Import Libraries\n",
    "import pandas as pd                 # pandas is a dataframe library\n",
    "import matplotlib.pyplot as plt      # matplotlib.pyplot plots data\n",
    "%matplotlib inline\n",
    "\n",
    "#Read the data\n",
    "df = pd.read_csv(\"Data\\Classification\\pima-data.csv\")\n",
    "\n",
    "#Check the Correlation\n",
    "df.corr()\n",
    "#Delete the correlated feature\n",
    "del df['skin']\n",
    "\n",
    "#Data Molding\n",
    "diabetes_map = {True : 1, False : 0}\n",
    "df['diabetes'] = df['diabetes'].map(diabetes_map)\n",
    "\n",
    "#Splitting the data\n",
    "from sklearn.model_selection import train_test_split\n",
    "\n",
    "feature_col_names = ['num_preg', 'glucose_conc', 'diastolic_bp', 'thickness', 'insulin', 'bmi', 'diab_pred', 'age']\n",
    "predicted_class_names = ['diabetes']\n",
    "\n",
    "X = df[feature_col_names].values     # predictor feature columns (8 X m)\n",
    "y = df[predicted_class_names].values # predicted class (1=true, 0=false) column (1 X m)\n",
    "split_test_size = 0.30\n",
    "\n",
    "X_train, X_test, y_train, y_test = train_test_split(X, y, test_size=split_test_size, random_state=42) \n",
    "\n",
    "#Imputing\n",
    "from sklearn.impute import SimpleImputer \n",
    "\n",
    "#Impute with mean all 0 readings\n",
    "fill_0 = SimpleImputer(missing_values=0, strategy=\"mean\")\n",
    "\n",
    "X_train = fill_0.fit_transform(X_train)\n",
    "X_test = fill_0.fit_transform(X_test)"
   ]
  },
  {
   "cell_type": "code",
   "execution_count": 13,
   "metadata": {},
   "outputs": [
    {
     "data": {
      "text/plain": [
       "GaussianNB(priors=None, var_smoothing=1e-09)"
      ]
     },
     "execution_count": 13,
     "metadata": {},
     "output_type": "execute_result"
    }
   ],
   "source": [
    "#Training with Naive Bayes\n",
    "from sklearn.naive_bayes import GaussianNB\n",
    "\n",
    "# create Gaussian Naive Bayes model object and train it with the data\n",
    "nb_model = GaussianNB()\n",
    "\n",
    "nb_model.fit(X_train, y_train.ravel())"
   ]
  },
  {
   "cell_type": "code",
   "execution_count": 14,
   "metadata": {},
   "outputs": [
    {
     "name": "stdout",
     "output_type": "stream",
     "text": [
      "Accuracy: 0.7542\n",
      "\n"
     ]
    }
   ],
   "source": [
    "# Calculate Accuracy on training data\n",
    "# predict values using the training data\n",
    "nb_predict_train = nb_model.predict(X_train)\n",
    "\n",
    "# import the performance metrics library\n",
    "from sklearn import metrics\n",
    "\n",
    "# Accuracy\n",
    "print(\"Accuracy: {0:.4f}\".format(metrics.accuracy_score(y_train, nb_predict_train)))\n",
    "print()"
   ]
  },
  {
   "cell_type": "code",
   "execution_count": 15,
   "metadata": {},
   "outputs": [
    {
     "name": "stdout",
     "output_type": "stream",
     "text": [
      "Accuracy: 0.7359\n"
     ]
    }
   ],
   "source": [
    "# Calculate Accuracy on test data\n",
    "# predict values using the testing data\n",
    "nb_predict_test = nb_model.predict(X_test)\n",
    "\n",
    "from sklearn import metrics\n",
    "\n",
    "# training metrics\n",
    "print(\"Accuracy: {0:.4f}\".format(metrics.accuracy_score(y_test, nb_predict_test)))"
   ]
  },
  {
   "cell_type": "code",
   "execution_count": null,
   "metadata": {},
   "outputs": [],
   "source": []
  }
 ],
 "metadata": {
  "kernelspec": {
   "display_name": "Python 3",
   "language": "python",
   "name": "python3"
  },
  "language_info": {
   "codemirror_mode": {
    "name": "ipython",
    "version": 3
   },
   "file_extension": ".py",
   "mimetype": "text/x-python",
   "name": "python",
   "nbconvert_exporter": "python",
   "pygments_lexer": "ipython3",
   "version": "3.6.6"
  }
 },
 "nbformat": 4,
 "nbformat_minor": 2
}
